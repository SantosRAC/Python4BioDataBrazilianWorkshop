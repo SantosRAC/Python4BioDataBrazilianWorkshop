{
 "cells": [
  {
   "cell_type": "markdown",
   "metadata": {},
   "source": [
    "# Introdução à Linguagem Python\n",
    "\n",
    "\n",
    "Este material adota a versão 3 do Python. O uso do Python 2 não é recomendado para novos projetos pois em breve ele se aposentará. Além disso, atualmente todas as bibliotecas já foram migradas para python 3 e algumas já não suportam o python 2 em suas versões mais atuais.\n",
    "\n",
    "\n",
    "## Por que Python?\n",
    "\n",
    "- Linguagem orientada a objetos e funcional\n",
    "- É gratuita!\n",
    "- É portátil!\n",
    "- É poderosa!\n",
    "- É simples de usar!\n",
    "- É (relativamente) fácil de aprender!\n",
    "- É uma linguagem multi-propósito: pode ser usada tanto para projetos simples quanto para o desenvolvimento de sistemas complexos."
   ]
  },
  {
   "cell_type": "code",
   "execution_count": 14,
   "metadata": {},
   "outputs": [],
   "source": [
    "import this"
   ]
  },
  {
   "cell_type": "markdown",
   "metadata": {},
   "source": [
    "## Interpretador de Python\n",
    "\n",
    "Programa que interpreta um código em Python e executa as instruções nele contidas.\n",
    "\n",
    "Você pode criar um arquivo .py e passar para o interpretador ou usar o modo interativo. \n",
    "\n",
    "No modo interativo do python (shell), as linhas de comando aparecem com o símbolo '>>>':\n",
    "\n",
    "\\>>> print(‘Hello World!’)\n",
    "\n",
    "Hello World!\n",
    "\n",
    "\n",
    "## Por que usar o modo interativo?\n",
    "- Testar programas\n",
    "- Experimentar a linguagem (nosso caso!)\n",
    "\n",
    "No modo interativo, os comamdos já interpretados ficam apenas no histórico.\n",
    "\n",
    "## Rodando por arquivos\n",
    "\n",
    "Você pode utilizar um editor de texto (gedit, vim, bloco de notas, PyCharm, athom, ...) e salvá-lo como .py. \n",
    "Em seguida, use o seguinte comando no terminal:   \n",
    "\n",
    "``` bash\n",
    "$ python nome_do_arquivo.py \n",
    "\n",
    "```\n",
    "\n",
    "**.py** é a terminação obrigatório para módulos (códigos importados em um programa de Python). É uma boa prática usar a extensão para todo programa escrito.\n",
    "\n",
    "## Vamos utilizar o Jupyter agora..."
   ]
  },
  {
   "cell_type": "code",
   "execution_count": null,
   "metadata": {
    "collapsed": true
   },
   "outputs": [],
   "source": [
    "\n"
   ]
  },
  {
   "cell_type": "code",
   "execution_count": null,
   "metadata": {
    "collapsed": true
   },
   "outputs": [],
   "source": []
  },
  {
   "cell_type": "code",
   "execution_count": null,
   "metadata": {
    "collapsed": true
   },
   "outputs": [],
   "source": []
  },
  {
   "cell_type": "markdown",
   "metadata": {},
   "source": [
    "## Dicionários\n",
    "\n",
    "Dicionários (`dict`) são coleções de chaves (únicas) associadas a valores. As chaves são restritas a alguns tipos de objetos específicos, como `int` e `string`, e devem ser únicos. Já os valores podem ser qualquer tipo de objeto.\n",
    "\n",
    "A grande vantagem dos dicionários é permitir um fácil (e rápido) acesso aos valores de interesse."
   ]
  },
  {
   "cell_type": "code",
   "execution_count": 1,
   "metadata": {},
   "outputs": [
    {
     "data": {
      "text/plain": [
       "{'Ana Claudia': 10, 'Bruno': 3.1, 'César': 7.3, 'João': 9.5, 'Márcia': 8.8}"
      ]
     },
     "execution_count": 1,
     "metadata": {},
     "output_type": "execute_result"
    }
   ],
   "source": [
    "# exemplo: notas dos alunos de uma turma\n",
    "notas = {\n",
    "    'João': 9.5,\n",
    "    'César': 7.3,\n",
    "    'Ana Claudia': 10,\n",
    "    'Bruno': 3.1,\n",
    "    'Márcia': 8.8\n",
    "}\n",
    "notas"
   ]
  },
  {
   "cell_type": "code",
   "execution_count": 2,
   "metadata": {},
   "outputs": [
    {
     "data": {
      "text/plain": [
       "3.1"
      ]
     },
     "execution_count": 2,
     "metadata": {},
     "output_type": "execute_result"
    }
   ],
   "source": [
    "# acessar a nota do Bruno\n",
    "notas['Bruno']"
   ]
  },
  {
   "cell_type": "markdown",
   "metadata": {},
   "source": [
    "Descobrimos que o João colou. Vamos alterar a nota desse safado"
   ]
  },
  {
   "cell_type": "code",
   "execution_count": 3,
   "metadata": {},
   "outputs": [
    {
     "data": {
      "text/plain": [
       "{'Ana Claudia': 10, 'Bruno': 3.1, 'César': 7.3, 'João': 0, 'Márcia': 8.8}"
      ]
     },
     "execution_count": 3,
     "metadata": {},
     "output_type": "execute_result"
    }
   ],
   "source": [
    "notas['João'] = 0\n",
    "notas"
   ]
  },
  {
   "cell_type": "markdown",
   "metadata": {},
   "source": [
    "De maneira similar às listas, ao acessar valores que não existem resulta num erro"
   ]
  },
  {
   "cell_type": "code",
   "execution_count": 4,
   "metadata": {},
   "outputs": [
    {
     "ename": "KeyError",
     "evalue": "'Zezinho'",
     "output_type": "error",
     "traceback": [
      "\u001b[0;31m---------------------------------------------------------------------------\u001b[0m",
      "\u001b[0;31mKeyError\u001b[0m                                  Traceback (most recent call last)",
      "\u001b[0;32m<ipython-input-4-00f1a21f6106>\u001b[0m in \u001b[0;36m<module>\u001b[0;34m()\u001b[0m\n\u001b[0;32m----> 1\u001b[0;31m \u001b[0mnotas\u001b[0m\u001b[0;34m[\u001b[0m\u001b[0;34m'Zezinho'\u001b[0m\u001b[0;34m]\u001b[0m\u001b[0;34m\u001b[0m\u001b[0m\n\u001b[0m",
      "\u001b[0;31mKeyError\u001b[0m: 'Zezinho'"
     ]
    }
   ],
   "source": [
    "notas['Zezinho']"
   ]
  },
  {
   "cell_type": "markdown",
   "metadata": {},
   "source": [
    "Uma das maneiras de evitar esse erro é testar se a chave existe no dicionário"
   ]
  },
  {
   "cell_type": "code",
   "execution_count": 5,
   "metadata": {},
   "outputs": [
    {
     "data": {
      "text/plain": [
       "False"
      ]
     },
     "execution_count": 5,
     "metadata": {},
     "output_type": "execute_result"
    }
   ],
   "source": [
    "'Zezinho' in notas"
   ]
  },
  {
   "cell_type": "code",
   "execution_count": 6,
   "metadata": {},
   "outputs": [
    {
     "data": {
      "text/plain": [
       "True"
      ]
     },
     "execution_count": 6,
     "metadata": {},
     "output_type": "execute_result"
    }
   ],
   "source": [
    "'Ana Claudia' in notas"
   ]
  },
  {
   "cell_type": "markdown",
   "metadata": {},
   "source": [
    "Dicionários também dispoem de métodos para acessar somente as chaves ou somente os valores"
   ]
  },
  {
   "cell_type": "code",
   "execution_count": 8,
   "metadata": {},
   "outputs": [
    {
     "name": "stdout",
     "output_type": "stream",
     "text": [
      "dict_keys(['João', 'César', 'Ana Claudia', 'Bruno', 'Márcia'])\n"
     ]
    }
   ],
   "source": [
    "print(notas.keys())"
   ]
  },
  {
   "cell_type": "code",
   "execution_count": 9,
   "metadata": {},
   "outputs": [
    {
     "name": "stdout",
     "output_type": "stream",
     "text": [
      "dict_values([0, 7.3, 10, 3.1, 8.8])\n"
     ]
    }
   ],
   "source": [
    "print(notas.values())"
   ]
  },
  {
   "cell_type": "code",
   "execution_count": null,
   "metadata": {
    "collapsed": true
   },
   "outputs": [],
   "source": []
  }
 ],
 "metadata": {
  "kernelspec": {
   "display_name": "Python 3",
   "language": "python",
   "name": "python3"
  },
  "language_info": {
   "codemirror_mode": {
    "name": "ipython",
    "version": 3
   },
   "file_extension": ".py",
   "mimetype": "text/x-python",
   "name": "python",
   "nbconvert_exporter": "python",
   "pygments_lexer": "ipython3",
   "version": "3.6.1"
  }
 },
 "nbformat": 4,
 "nbformat_minor": 2
}
