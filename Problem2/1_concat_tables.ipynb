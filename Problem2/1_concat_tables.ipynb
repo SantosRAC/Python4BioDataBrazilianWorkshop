{
 "cells": [
  {
   "cell_type": "code",
   "execution_count": 1,
   "metadata": {},
   "outputs": [
    {
     "name": "stdout",
     "output_type": "stream",
     "text": [
      "xls\r\n"
     ]
    }
   ],
   "source": [
    "!ls proteins/ | awk -F\".\" '{print $NF}' | sort -u"
   ]
  },
  {
   "cell_type": "code",
   "execution_count": 2,
   "metadata": {},
   "outputs": [
    {
     "name": "stdout",
     "output_type": "stream",
     "text": [
      "632\r\n"
     ]
    }
   ],
   "source": [
    "!ls proteins/ | wc -l"
   ]
  },
  {
   "cell_type": "code",
   "execution_count": 3,
   "metadata": {
    "collapsed": true
   },
   "outputs": [],
   "source": [
    "import pandas as pd"
   ]
  },
  {
   "cell_type": "code",
   "execution_count": 4,
   "metadata": {},
   "outputs": [],
   "source": [
    "# pd.read_excel('proteins/gi_110758919.xls' )\n",
    "# o leitor de excel n funciona, sai um erro no leitor desse tipo de arquivo\n"
   ]
  },
  {
   "cell_type": "code",
   "execution_count": 5,
   "metadata": {},
   "outputs": [
    {
     "name": "stdout",
     "output_type": "stream",
     "text": [
      "Experiment name\tBiological sample category\tBiological sample name\tMS/MS sample name\tProtein group\tProtein accession number\tProtein name\tProtein identification probability\tProtein percentage of total spectra\tProtein molecular weight (AMU)\tNumber of unique peptides\tNumber of unique spectra\tNumber of total spectra\tSpectrum name\tPeptide sequence\tPrevious amino acid\tNext amino acid\tPeptide identification probability\tMascot Ion score\tMascot Identity score\tMascot Delta Ion score\tModifications identified by spectrum\tActual peptide mass (AMU)\tSpectrum charge\tActual minus calculated peptide mass (AMU)\tActual minus calculated peptide mass (PPM)\tPeptide start index\tPeptide stop index\r\n"
     ]
    }
   ],
   "source": [
    "!head proteins/gi_110758919.xls -n1"
   ]
  },
  {
   "cell_type": "code",
   "execution_count": 6,
   "metadata": {},
   "outputs": [
    {
     "name": "stdout",
     "output_type": "stream",
     "text": [
      "proteins/gi_110758919.xls: ASCII text, with very long lines\r\n"
     ]
    }
   ],
   "source": [
    "!file proteins/gi_110758919.xls"
   ]
  },
  {
   "cell_type": "code",
   "execution_count": 7,
   "metadata": {},
   "outputs": [
    {
     "name": "stdout",
     "output_type": "stream",
     "text": [
      "proteínas glândula aranha.xltx: Microsoft Excel 2007+\r\n"
     ]
    }
   ],
   "source": [
    "!file proteínas\\ glândula\\ aranha.xltx"
   ]
  },
  {
   "cell_type": "markdown",
   "metadata": {},
   "source": [
    "Apesar da extensão `xls` os arquivos não são excel, mas simples arquivos de texto separados por tab."
   ]
  },
  {
   "cell_type": "code",
   "execution_count": 8,
   "metadata": {},
   "outputs": [
    {
     "data": {
      "text/html": [
       "<div>\n",
       "<style>\n",
       "    .dataframe thead tr:only-child th {\n",
       "        text-align: right;\n",
       "    }\n",
       "\n",
       "    .dataframe thead th {\n",
       "        text-align: left;\n",
       "    }\n",
       "\n",
       "    .dataframe tbody tr th {\n",
       "        vertical-align: top;\n",
       "    }\n",
       "</style>\n",
       "<table border=\"1\" class=\"dataframe\">\n",
       "  <thead>\n",
       "    <tr style=\"text-align: right;\">\n",
       "      <th></th>\n",
       "      <th>Experiment name</th>\n",
       "      <th>Biological sample category</th>\n",
       "      <th>Biological sample name</th>\n",
       "      <th>MS/MS sample name</th>\n",
       "      <th>Protein group</th>\n",
       "      <th>Protein accession number</th>\n",
       "      <th>Protein name</th>\n",
       "      <th>Protein identification probability</th>\n",
       "      <th>Protein percentage of total spectra</th>\n",
       "      <th>Protein molecular weight (AMU)</th>\n",
       "      <th>...</th>\n",
       "      <th>Mascot Ion score</th>\n",
       "      <th>Mascot Identity score</th>\n",
       "      <th>Mascot Delta Ion score</th>\n",
       "      <th>Modifications identified by spectrum</th>\n",
       "      <th>Actual peptide mass (AMU)</th>\n",
       "      <th>Spectrum charge</th>\n",
       "      <th>Actual minus calculated peptide mass (AMU)</th>\n",
       "      <th>Actual minus calculated peptide mass (PPM)</th>\n",
       "      <th>Peptide start index</th>\n",
       "      <th>Peptide stop index</th>\n",
       "    </tr>\n",
       "  </thead>\n",
       "  <tbody>\n",
       "    <tr>\n",
       "      <th>0</th>\n",
       "      <td>TUB Arachinidar e pep go</td>\n",
       "      <td>Shotgun Proteomics</td>\n",
       "      <td>TUB</td>\n",
       "      <td>Mudpit_DATA.TXT (F003448 TUB NCBInr)</td>\n",
       "      <td>PREDICTED: constitutive coactivator of PPAR-ga...</td>\n",
       "      <td>gi|110758919</td>\n",
       "      <td>PREDICTED: constitutive coactivator of PPAR-ga...</td>\n",
       "      <td>100.0%</td>\n",
       "      <td>0.00131%</td>\n",
       "      <td>109,122.2</td>\n",
       "      <td>...</td>\n",
       "      <td>12.5</td>\n",
       "      <td>36.7</td>\n",
       "      <td>0.00</td>\n",
       "      <td>Carbamidomethyl (+57)</td>\n",
       "      <td>2,035.73</td>\n",
       "      <td>3</td>\n",
       "      <td>-0.13</td>\n",
       "      <td>-64</td>\n",
       "      <td>63</td>\n",
       "      <td>79</td>\n",
       "    </tr>\n",
       "    <tr>\n",
       "      <th>1</th>\n",
       "      <td>TUB Arachinidar e pep go</td>\n",
       "      <td>Shotgun Proteomics</td>\n",
       "      <td>TUB</td>\n",
       "      <td>Mudpit_DATA.TXT (F003448 TUB NCBInr)</td>\n",
       "      <td>PREDICTED: constitutive coactivator of PPAR-ga...</td>\n",
       "      <td>gi|110758919</td>\n",
       "      <td>PREDICTED: constitutive coactivator of PPAR-ga...</td>\n",
       "      <td>100.0%</td>\n",
       "      <td>0.00131%</td>\n",
       "      <td>109,122.2</td>\n",
       "      <td>...</td>\n",
       "      <td>13.0</td>\n",
       "      <td>36.8</td>\n",
       "      <td>-3.02</td>\n",
       "      <td>Oxidation (+16)</td>\n",
       "      <td>996.53</td>\n",
       "      <td>2</td>\n",
       "      <td>-1000.00</td>\n",
       "      <td>-1000000</td>\n",
       "      <td>458</td>\n",
       "      <td>474</td>\n",
       "    </tr>\n",
       "    <tr>\n",
       "      <th>2</th>\n",
       "      <td>TUB Arachinidar e pep go</td>\n",
       "      <td>Shotgun Proteomics</td>\n",
       "      <td>TUB</td>\n",
       "      <td>Mudpit_DATA.TXT (F003448 TUB NCBInr)</td>\n",
       "      <td>PREDICTED: constitutive coactivator of PPAR-ga...</td>\n",
       "      <td>gi|110758919</td>\n",
       "      <td>PREDICTED: constitutive coactivator of PPAR-ga...</td>\n",
       "      <td>100.0%</td>\n",
       "      <td>0.00131%</td>\n",
       "      <td>109,122.2</td>\n",
       "      <td>...</td>\n",
       "      <td>12.5</td>\n",
       "      <td>36.1</td>\n",
       "      <td>-0.71</td>\n",
       "      <td>Oxidation (+16)</td>\n",
       "      <td>3,382.33</td>\n",
       "      <td>4</td>\n",
       "      <td>850.00</td>\n",
       "      <td>250000</td>\n",
       "      <td>458</td>\n",
       "      <td>479</td>\n",
       "    </tr>\n",
       "  </tbody>\n",
       "</table>\n",
       "<p>3 rows × 28 columns</p>\n",
       "</div>"
      ],
      "text/plain": [
       "            Experiment name Biological sample category Biological sample name  \\\n",
       "0  TUB Arachinidar e pep go         Shotgun Proteomics                    TUB   \n",
       "1  TUB Arachinidar e pep go         Shotgun Proteomics                    TUB   \n",
       "2  TUB Arachinidar e pep go         Shotgun Proteomics                    TUB   \n",
       "\n",
       "                      MS/MS sample name  \\\n",
       "0  Mudpit_DATA.TXT (F003448 TUB NCBInr)   \n",
       "1  Mudpit_DATA.TXT (F003448 TUB NCBInr)   \n",
       "2  Mudpit_DATA.TXT (F003448 TUB NCBInr)   \n",
       "\n",
       "                                       Protein group Protein accession number  \\\n",
       "0  PREDICTED: constitutive coactivator of PPAR-ga...             gi|110758919   \n",
       "1  PREDICTED: constitutive coactivator of PPAR-ga...             gi|110758919   \n",
       "2  PREDICTED: constitutive coactivator of PPAR-ga...             gi|110758919   \n",
       "\n",
       "                                        Protein name  \\\n",
       "0  PREDICTED: constitutive coactivator of PPAR-ga...   \n",
       "1  PREDICTED: constitutive coactivator of PPAR-ga...   \n",
       "2  PREDICTED: constitutive coactivator of PPAR-ga...   \n",
       "\n",
       "  Protein identification probability Protein percentage of total spectra  \\\n",
       "0                             100.0%                            0.00131%   \n",
       "1                             100.0%                            0.00131%   \n",
       "2                             100.0%                            0.00131%   \n",
       "\n",
       "  Protein molecular weight (AMU)         ...          Mascot Ion score  \\\n",
       "0                      109,122.2         ...                      12.5   \n",
       "1                      109,122.2         ...                      13.0   \n",
       "2                      109,122.2         ...                      12.5   \n",
       "\n",
       "   Mascot Identity score  Mascot Delta Ion score  \\\n",
       "0                   36.7                    0.00   \n",
       "1                   36.8                   -3.02   \n",
       "2                   36.1                   -0.71   \n",
       "\n",
       "  Modifications identified by spectrum Actual peptide mass (AMU)  \\\n",
       "0                Carbamidomethyl (+57)                  2,035.73   \n",
       "1                      Oxidation (+16)                    996.53   \n",
       "2                      Oxidation (+16)                  3,382.33   \n",
       "\n",
       "  Spectrum charge Actual minus calculated peptide mass (AMU)  \\\n",
       "0               3                                      -0.13   \n",
       "1               2                                   -1000.00   \n",
       "2               4                                     850.00   \n",
       "\n",
       "  Actual minus calculated peptide mass (PPM)  Peptide start index  \\\n",
       "0                                        -64                   63   \n",
       "1                                   -1000000                  458   \n",
       "2                                     250000                  458   \n",
       "\n",
       "   Peptide stop index  \n",
       "0                  79  \n",
       "1                 474  \n",
       "2                 479  \n",
       "\n",
       "[3 rows x 28 columns]"
      ]
     },
     "execution_count": 8,
     "metadata": {},
     "output_type": "execute_result"
    }
   ],
   "source": [
    "pd.read_table('proteins/gi_110758919.xls', sep='\\t').head()"
   ]
  },
  {
   "cell_type": "markdown",
   "metadata": {},
   "source": [
    "Para facilitar futuras analises, vamos juntar todos os arquivos em um só e incluir uma coluna 'file_name'"
   ]
  },
  {
   "cell_type": "code",
   "execution_count": 10,
   "metadata": {
    "collapsed": true
   },
   "outputs": [],
   "source": [
    "def parse_protein_table(fname):\n",
    "    df = pd.read_table('proteins/{}'.format(fname))\n",
    "    df['file_name'] = fname\n",
    "    return df\n",
    "    "
   ]
  },
  {
   "cell_type": "code",
   "execution_count": 11,
   "metadata": {},
   "outputs": [
    {
     "name": "stdout",
     "output_type": "stream",
     "text": [
      "CPU times: user 5.44 s, sys: 24 ms, total: 5.46 s\n",
      "Wall time: 5.47 s\n"
     ]
    }
   ],
   "source": [
    "%%time\n",
    "files = !ls proteins/\n",
    "\n",
    "df = parse_protein_table(files[0])\n",
    "\n",
    "for f in files[1:]:\n",
    "    df = pd.concat([df, parse_protein_table(f)])"
   ]
  },
  {
   "cell_type": "markdown",
   "metadata": {},
   "source": [
    "## Obrigado, python! <3\n",
    "\n",
    "Uau! em menos de dez segundos o python conseguiu resolver uma tarefa que seria extremamente maçante. \n",
    "OBRIGADO, PYTHON"
   ]
  },
  {
   "cell_type": "code",
   "execution_count": 12,
   "metadata": {},
   "outputs": [
    {
     "data": {
      "text/plain": [
       "(2214, 29)"
      ]
     },
     "execution_count": 12,
     "metadata": {},
     "output_type": "execute_result"
    }
   ],
   "source": [
    "df.shape"
   ]
  },
  {
   "cell_type": "code",
   "execution_count": 13,
   "metadata": {
    "collapsed": true
   },
   "outputs": [],
   "source": [
    "df.to_csv('all_proteins.tsv', sep='\\t', index=None)"
   ]
  }
 ],
 "metadata": {
  "kernelspec": {
   "display_name": "Python 3",
   "language": "python",
   "name": "python3"
  },
  "language_info": {
   "codemirror_mode": {
    "name": "ipython",
    "version": 3
   },
   "file_extension": ".py",
   "mimetype": "text/x-python",
   "name": "python",
   "nbconvert_exporter": "python",
   "pygments_lexer": "ipython3",
   "version": "3.6.1"
  }
 },
 "nbformat": 4,
 "nbformat_minor": 2
}
