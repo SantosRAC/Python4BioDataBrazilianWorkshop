{
 "cells": [
  {
   "cell_type": "markdown",
   "metadata": {},
   "source": [
    "# Concatenate tables\n",
    "\n",
    "\n",
    "The main porpose of this script is to concatenate several tables with the same format into one. \n",
    "\n",
    "Fisrt, let's check what we have:"
   ]
  },
  {
   "cell_type": "code",
   "execution_count": 1,
   "metadata": {
    "collapsed": true
   },
   "outputs": [],
   "source": [
    "import os\n",
    "import pandas as pd\n"
   ]
  },
  {
   "cell_type": "code",
   "execution_count": 2,
   "metadata": {},
   "outputs": [
    {
     "name": "stdout",
     "output_type": "stream",
     "text": [
      "The folder \"proteins\" has 632 files\n",
      "The files have the follwing extensions: xls\n"
     ]
    }
   ],
   "source": [
    "files = os.listdir('proteins')\n",
    "print('The folder \"proteins\" has %d files' % len(files))\n",
    "extensions = set()\n",
    "for file in files:\n",
    "    ext = file.split('.')[-1]\n",
    "    extensions.add(ext)\n",
    "    \n",
    "print(\"The files have the follwing extensions:\", ','.join(extensions))"
   ]
  },
  {
   "cell_type": "markdown",
   "metadata": {},
   "source": [
    "So we have 632 files in .xls format. "
   ]
  },
  {
   "cell_type": "markdown",
   "metadata": {},
   "source": [
    "Despite of the .xls format, the files are text files separated by tab."
   ]
  },
  {
   "cell_type": "code",
   "execution_count": 3,
   "metadata": {},
   "outputs": [
    {
     "data": {
      "text/html": [
       "<div>\n",
       "<style>\n",
       "    .dataframe thead tr:only-child th {\n",
       "        text-align: right;\n",
       "    }\n",
       "\n",
       "    .dataframe thead th {\n",
       "        text-align: left;\n",
       "    }\n",
       "\n",
       "    .dataframe tbody tr th {\n",
       "        vertical-align: top;\n",
       "    }\n",
       "</style>\n",
       "<table border=\"1\" class=\"dataframe\">\n",
       "  <thead>\n",
       "    <tr style=\"text-align: right;\">\n",
       "      <th></th>\n",
       "      <th>Experiment name</th>\n",
       "      <th>Biological sample category</th>\n",
       "      <th>Biological sample name</th>\n",
       "      <th>MS/MS sample name</th>\n",
       "      <th>Protein group</th>\n",
       "      <th>Protein accession number</th>\n",
       "      <th>Protein name</th>\n",
       "      <th>Protein identification probability</th>\n",
       "      <th>Protein percentage of total spectra</th>\n",
       "      <th>Protein molecular weight (AMU)</th>\n",
       "      <th>...</th>\n",
       "      <th>Mascot Ion score</th>\n",
       "      <th>Mascot Identity score</th>\n",
       "      <th>Mascot Delta Ion score</th>\n",
       "      <th>Modifications identified by spectrum</th>\n",
       "      <th>Actual peptide mass (AMU)</th>\n",
       "      <th>Spectrum charge</th>\n",
       "      <th>Actual minus calculated peptide mass (AMU)</th>\n",
       "      <th>Actual minus calculated peptide mass (PPM)</th>\n",
       "      <th>Peptide start index</th>\n",
       "      <th>Peptide stop index</th>\n",
       "    </tr>\n",
       "  </thead>\n",
       "  <tbody>\n",
       "    <tr>\n",
       "      <th>0</th>\n",
       "      <td>TUB Arachinidar e pep go</td>\n",
       "      <td>Shotgun Proteomics</td>\n",
       "      <td>TUB</td>\n",
       "      <td>Mudpit_DATA.TXT (F003448 TUB NCBInr)</td>\n",
       "      <td>PREDICTED: constitutive coactivator of PPAR-ga...</td>\n",
       "      <td>gi|110758919</td>\n",
       "      <td>PREDICTED: constitutive coactivator of PPAR-ga...</td>\n",
       "      <td>100.0%</td>\n",
       "      <td>0.00131%</td>\n",
       "      <td>109,122.2</td>\n",
       "      <td>...</td>\n",
       "      <td>12.5</td>\n",
       "      <td>36.7</td>\n",
       "      <td>0.00</td>\n",
       "      <td>Carbamidomethyl (+57)</td>\n",
       "      <td>2,035.73</td>\n",
       "      <td>3</td>\n",
       "      <td>-0.13</td>\n",
       "      <td>-64</td>\n",
       "      <td>63</td>\n",
       "      <td>79</td>\n",
       "    </tr>\n",
       "    <tr>\n",
       "      <th>1</th>\n",
       "      <td>TUB Arachinidar e pep go</td>\n",
       "      <td>Shotgun Proteomics</td>\n",
       "      <td>TUB</td>\n",
       "      <td>Mudpit_DATA.TXT (F003448 TUB NCBInr)</td>\n",
       "      <td>PREDICTED: constitutive coactivator of PPAR-ga...</td>\n",
       "      <td>gi|110758919</td>\n",
       "      <td>PREDICTED: constitutive coactivator of PPAR-ga...</td>\n",
       "      <td>100.0%</td>\n",
       "      <td>0.00131%</td>\n",
       "      <td>109,122.2</td>\n",
       "      <td>...</td>\n",
       "      <td>13.0</td>\n",
       "      <td>36.8</td>\n",
       "      <td>-3.02</td>\n",
       "      <td>Oxidation (+16)</td>\n",
       "      <td>996.53</td>\n",
       "      <td>2</td>\n",
       "      <td>-1000.00</td>\n",
       "      <td>-1000000</td>\n",
       "      <td>458</td>\n",
       "      <td>474</td>\n",
       "    </tr>\n",
       "    <tr>\n",
       "      <th>2</th>\n",
       "      <td>TUB Arachinidar e pep go</td>\n",
       "      <td>Shotgun Proteomics</td>\n",
       "      <td>TUB</td>\n",
       "      <td>Mudpit_DATA.TXT (F003448 TUB NCBInr)</td>\n",
       "      <td>PREDICTED: constitutive coactivator of PPAR-ga...</td>\n",
       "      <td>gi|110758919</td>\n",
       "      <td>PREDICTED: constitutive coactivator of PPAR-ga...</td>\n",
       "      <td>100.0%</td>\n",
       "      <td>0.00131%</td>\n",
       "      <td>109,122.2</td>\n",
       "      <td>...</td>\n",
       "      <td>12.5</td>\n",
       "      <td>36.1</td>\n",
       "      <td>-0.71</td>\n",
       "      <td>Oxidation (+16)</td>\n",
       "      <td>3,382.33</td>\n",
       "      <td>4</td>\n",
       "      <td>850.00</td>\n",
       "      <td>250000</td>\n",
       "      <td>458</td>\n",
       "      <td>479</td>\n",
       "    </tr>\n",
       "  </tbody>\n",
       "</table>\n",
       "<p>3 rows × 28 columns</p>\n",
       "</div>"
      ],
      "text/plain": [
       "            Experiment name Biological sample category Biological sample name  \\\n",
       "0  TUB Arachinidar e pep go         Shotgun Proteomics                    TUB   \n",
       "1  TUB Arachinidar e pep go         Shotgun Proteomics                    TUB   \n",
       "2  TUB Arachinidar e pep go         Shotgun Proteomics                    TUB   \n",
       "\n",
       "                      MS/MS sample name  \\\n",
       "0  Mudpit_DATA.TXT (F003448 TUB NCBInr)   \n",
       "1  Mudpit_DATA.TXT (F003448 TUB NCBInr)   \n",
       "2  Mudpit_DATA.TXT (F003448 TUB NCBInr)   \n",
       "\n",
       "                                       Protein group Protein accession number  \\\n",
       "0  PREDICTED: constitutive coactivator of PPAR-ga...             gi|110758919   \n",
       "1  PREDICTED: constitutive coactivator of PPAR-ga...             gi|110758919   \n",
       "2  PREDICTED: constitutive coactivator of PPAR-ga...             gi|110758919   \n",
       "\n",
       "                                        Protein name  \\\n",
       "0  PREDICTED: constitutive coactivator of PPAR-ga...   \n",
       "1  PREDICTED: constitutive coactivator of PPAR-ga...   \n",
       "2  PREDICTED: constitutive coactivator of PPAR-ga...   \n",
       "\n",
       "  Protein identification probability Protein percentage of total spectra  \\\n",
       "0                             100.0%                            0.00131%   \n",
       "1                             100.0%                            0.00131%   \n",
       "2                             100.0%                            0.00131%   \n",
       "\n",
       "  Protein molecular weight (AMU)         ...          Mascot Ion score  \\\n",
       "0                      109,122.2         ...                      12.5   \n",
       "1                      109,122.2         ...                      13.0   \n",
       "2                      109,122.2         ...                      12.5   \n",
       "\n",
       "   Mascot Identity score  Mascot Delta Ion score  \\\n",
       "0                   36.7                    0.00   \n",
       "1                   36.8                   -3.02   \n",
       "2                   36.1                   -0.71   \n",
       "\n",
       "  Modifications identified by spectrum Actual peptide mass (AMU)  \\\n",
       "0                Carbamidomethyl (+57)                  2,035.73   \n",
       "1                      Oxidation (+16)                    996.53   \n",
       "2                      Oxidation (+16)                  3,382.33   \n",
       "\n",
       "  Spectrum charge Actual minus calculated peptide mass (AMU)  \\\n",
       "0               3                                      -0.13   \n",
       "1               2                                   -1000.00   \n",
       "2               4                                     850.00   \n",
       "\n",
       "  Actual minus calculated peptide mass (PPM)  Peptide start index  \\\n",
       "0                                        -64                   63   \n",
       "1                                   -1000000                  458   \n",
       "2                                     250000                  458   \n",
       "\n",
       "   Peptide stop index  \n",
       "0                  79  \n",
       "1                 474  \n",
       "2                 479  \n",
       "\n",
       "[3 rows x 28 columns]"
      ]
     },
     "execution_count": 3,
     "metadata": {},
     "output_type": "execute_result"
    }
   ],
   "source": [
    "pd.read_table('proteins/gi_110758919.xls', sep='\\t').head()"
   ]
  },
  {
   "cell_type": "markdown",
   "metadata": {},
   "source": [
    "Time to concatenate all files into one to make future analysis easier. However, a new column (file_name) will be defined to know the origin of the row."
   ]
  },
  {
   "cell_type": "code",
   "execution_count": 4,
   "metadata": {
    "collapsed": true
   },
   "outputs": [],
   "source": [
    "def parse_protein_table(fname):\n",
    "    df = pd.read_table('proteins/{}'.format(fname))\n",
    "    df['file_name'] = fname\n",
    "    return df\n",
    "    "
   ]
  },
  {
   "cell_type": "code",
   "execution_count": 5,
   "metadata": {},
   "outputs": [
    {
     "name": "stdout",
     "output_type": "stream",
     "text": [
      "CPU times: user 5.64 s, sys: 28 ms, total: 5.66 s\n",
      "Wall time: 5.66 s\n"
     ]
    }
   ],
   "source": [
    "%%time\n",
    "df = parse_protein_table(files[0])\n",
    "\n",
    "for f in files[1:]:\n",
    "    df = pd.concat([df, parse_protein_table(f)])"
   ]
  },
  {
   "cell_type": "markdown",
   "metadata": {},
   "source": [
    "## Thanks, Python! <3\n",
    "\n",
    "Wow! Within ten seconds we solve a problem that would be a very boring task."
   ]
  },
  {
   "cell_type": "code",
   "execution_count": 6,
   "metadata": {},
   "outputs": [
    {
     "data": {
      "text/plain": [
       "(2214, 29)"
      ]
     },
     "execution_count": 6,
     "metadata": {},
     "output_type": "execute_result"
    }
   ],
   "source": [
    "df.shape"
   ]
  },
  {
   "cell_type": "code",
   "execution_count": 7,
   "metadata": {
    "collapsed": true
   },
   "outputs": [],
   "source": [
    "df.to_csv('all_proteins.tsv', sep='\\t', index=None)"
   ]
  }
 ],
 "metadata": {
  "kernelspec": {
   "display_name": "Python [Root]",
   "language": "python",
   "name": "Python [Root]"
  },
  "language_info": {
   "codemirror_mode": {
    "name": "ipython",
    "version": 3
   },
   "file_extension": ".py",
   "mimetype": "text/x-python",
   "name": "python",
   "nbconvert_exporter": "python",
   "pygments_lexer": "ipython3",
   "version": "3.5.3"
  }
 },
 "nbformat": 4,
 "nbformat_minor": 2
}
